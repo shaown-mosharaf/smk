{
  "nbformat": 4,
  "nbformat_minor": 0,
  "metadata": {
    "kernelspec": {
      "display_name": "Python 3",
      "language": "python",
      "name": "python3"
    },
    "language_info": {
      "codemirror_mode": {
        "name": "ipython",
        "version": 3
      },
      "file_extension": ".py",
      "mimetype": "text/x-python",
      "name": "python",
      "nbconvert_exporter": "python",
      "pygments_lexer": "ipython3",
      "version": "3.7.4"
    },
    "colab": {
      "name": "04 generator Twitter Bot.ipynb",
      "provenance": [],
      "toc_visible": true,
      "include_colab_link": true
    }
  },
  "cells": [
    {
      "cell_type": "markdown",
      "metadata": {
        "id": "view-in-github",
        "colab_type": "text"
      },
      "source": [
        "<a href=\"https://colab.research.google.com/github/shaown-mosharaf/smk/blob/master/04_generator_Twitter_Bot.ipynb\" target=\"_parent\"><img src=\"https://colab.research.google.com/assets/colab-badge.svg\" alt=\"Open In Colab\"/></a>"
      ]
    },
    {
      "cell_type": "markdown",
      "metadata": {
        "id": "t31h3FtYi5pL",
        "colab_type": "text"
      },
      "source": [
        "Creating lists of terms for our Tweets\n",
        "\n"
      ]
    },
    {
      "cell_type": "code",
      "metadata": {
        "id": "6ABvN6RSi5pO",
        "colab_type": "code",
        "colab": {}
      },
      "source": [
        "part1= ['Putin,','Hillary,','Obama,','Salman Bin Abdulla,','Kim jon Ung,','Shi Zin Ping,','Modi,']\n",
        "part2= ['no talent, ','on the way down, ','really poor number, ','nasty tone, ','looking like a fool, ','bad homder, ']\n",
        "part3= ['got destroyed by my ratings .','rigged the election .','had a much smaller crowd .','will pay for the world .']\n",
        "part4= ['so sad','Apologize','so true','Media wont report','big trouble','Fantastic job','stay tuned']"
      ],
      "execution_count": 0,
      "outputs": []
    },
    {
      "cell_type": "markdown",
      "metadata": {
        "id": "yboG1iATi5pS",
        "colab_type": "text"
      },
      "source": [
        "Creating a lists  of  lists"
      ]
    },
    {
      "cell_type": "code",
      "metadata": {
        "id": "k9wIlRH4i5pT",
        "colab_type": "code",
        "colab": {}
      },
      "source": [
        "tweets_word=[part1,part2,part3,part4]"
      ],
      "execution_count": 0,
      "outputs": []
    },
    {
      "cell_type": "code",
      "metadata": {
        "id": "i9PTNiBSi5pW",
        "colab_type": "code",
        "colab": {}
      },
      "source": [
        ""
      ],
      "execution_count": 0,
      "outputs": []
    },
    {
      "cell_type": "code",
      "metadata": {
        "id": "hebWxs9zi5pZ",
        "colab_type": "code",
        "colab": {}
      },
      "source": [
        ""
      ],
      "execution_count": 0,
      "outputs": []
    },
    {
      "cell_type": "markdown",
      "metadata": {
        "id": "Mbygw7vzi5pc",
        "colab_type": "text"
      },
      "source": [
        "inatial Basic"
      ]
    },
    {
      "cell_type": "code",
      "metadata": {
        "id": "fjKxMWJji5pc",
        "colab_type": "code",
        "colab": {},
        "outputId": "95a93fdf-1372-4055-f27f-7d3b11c9eafa"
      },
      "source": [
        "import random\n",
        "\n",
        "for i in tweets_word:\n",
        "    print(len(i))"
      ],
      "execution_count": 0,
      "outputs": [
        {
          "output_type": "stream",
          "text": [
            "8\n",
            "6\n",
            "4\n",
            "7\n"
          ],
          "name": "stdout"
        }
      ]
    },
    {
      "cell_type": "code",
      "metadata": {
        "id": "M3pQED9ai5ph",
        "colab_type": "code",
        "colab": {},
        "outputId": "54e9cf41-f063-444e-f41a-696a67945fc9"
      },
      "source": [
        "import random\n",
        "\n",
        "for i in tweets_word:\n",
        "    print(len(i))\n",
        "    r = random.randint(0,len(i)-1)\n",
        "    print(i)\n",
        "    print(r)"
      ],
      "execution_count": 0,
      "outputs": [
        {
          "output_type": "stream",
          "text": [
            "8\n",
            "['Putin', 'Hillary', 'Obama', 'Salman Bin Abdulla', 'Kim jon Ung', 'Shi Zin Ping', 'Modi', 'Justin Toddu']\n",
            "2\n",
            "6\n",
            "['no talent', 'on the way down', 'really poor number', 'nasty tone', 'looking like a fool', 'bad homder']\n",
            "0\n",
            "4\n",
            "['got destroyed by my ratings', 'rigged the election', 'had a much smaller crowd', 'will pay for the wall']\n",
            "1\n",
            "7\n",
            "['so sad', 'Apologize', 'so true', 'Media wont report', 'big trouble', 'Fantastic job', 'stay tuned']\n",
            "5\n"
          ],
          "name": "stdout"
        }
      ]
    },
    {
      "cell_type": "code",
      "metadata": {
        "id": "hZ4vJn33i5pk",
        "colab_type": "code",
        "colab": {},
        "outputId": "94763f85-751a-48c6-e7e2-7d626ee7af9f"
      },
      "source": [
        "import random\n",
        "\n",
        "for i in tweets_word:\n",
        "    r = random.randint(0,len(i))\n",
        "    print(i[r])"
      ],
      "execution_count": 0,
      "outputs": [
        {
          "output_type": "stream",
          "text": [
            "Kim jon Ung\n"
          ],
          "name": "stdout"
        },
        {
          "output_type": "error",
          "ename": "IndexError",
          "evalue": "list index out of range",
          "traceback": [
            "\u001b[1;31m---------------------------------------------------------------------------\u001b[0m",
            "\u001b[1;31mIndexError\u001b[0m                                Traceback (most recent call last)",
            "\u001b[1;32m<ipython-input-16-6d1f9f6bfb99>\u001b[0m in \u001b[0;36m<module>\u001b[1;34m\u001b[0m\n\u001b[0;32m      3\u001b[0m \u001b[1;32mfor\u001b[0m \u001b[0mi\u001b[0m \u001b[1;32min\u001b[0m \u001b[0mtweets_word\u001b[0m\u001b[1;33m:\u001b[0m\u001b[1;33m\u001b[0m\u001b[1;33m\u001b[0m\u001b[0m\n\u001b[0;32m      4\u001b[0m     \u001b[0mr\u001b[0m \u001b[1;33m=\u001b[0m \u001b[0mrandom\u001b[0m\u001b[1;33m.\u001b[0m\u001b[0mrandint\u001b[0m\u001b[1;33m(\u001b[0m\u001b[1;36m0\u001b[0m\u001b[1;33m,\u001b[0m\u001b[0mlen\u001b[0m\u001b[1;33m(\u001b[0m\u001b[0mi\u001b[0m\u001b[1;33m)\u001b[0m\u001b[1;33m)\u001b[0m\u001b[1;33m\u001b[0m\u001b[1;33m\u001b[0m\u001b[0m\n\u001b[1;32m----> 5\u001b[1;33m     \u001b[0mprint\u001b[0m\u001b[1;33m(\u001b[0m\u001b[0mi\u001b[0m\u001b[1;33m[\u001b[0m\u001b[0mr\u001b[0m\u001b[1;33m]\u001b[0m\u001b[1;33m)\u001b[0m\u001b[1;33m\u001b[0m\u001b[1;33m\u001b[0m\u001b[0m\n\u001b[0m",
            "\u001b[1;31mIndexError\u001b[0m: list index out of range"
          ]
        }
      ]
    },
    {
      "cell_type": "code",
      "metadata": {
        "id": "ikcs-ZS_i5pn",
        "colab_type": "code",
        "colab": {},
        "outputId": "782ef5a1-19c3-4eac-b206-2c7071bd5fec"
      },
      "source": [
        "import random\n",
        "\n",
        "for i in tweets_word:\n",
        "    r = random.randint(0,len(i)-1)\n",
        "    print(i[r])"
      ],
      "execution_count": 0,
      "outputs": [
        {
          "output_type": "stream",
          "text": [
            "Kim jon Ung\n",
            "really poor number\n",
            "rigged the election\n",
            "Media wont report\n"
          ],
          "name": "stdout"
        }
      ]
    },
    {
      "cell_type": "code",
      "metadata": {
        "id": "h6C5O4Xpi5pq",
        "colab_type": "code",
        "colab": {}
      },
      "source": [
        ""
      ],
      "execution_count": 0,
      "outputs": []
    },
    {
      "cell_type": "code",
      "metadata": {
        "id": "Drh5BTXBi5pu",
        "colab_type": "code",
        "colab": {}
      },
      "source": [
        ""
      ],
      "execution_count": 0,
      "outputs": []
    },
    {
      "cell_type": "markdown",
      "metadata": {
        "id": "pApNyHOMi5pw",
        "colab_type": "text"
      },
      "source": [
        "Building the Tweet Generator"
      ]
    },
    {
      "cell_type": "code",
      "metadata": {
        "id": "QmWmdpeCi5px",
        "colab_type": "code",
        "colab": {},
        "outputId": "9e114eef-d5ab-4a8f-e755-c6877379682e"
      },
      "source": [
        "import random\n",
        "\n",
        "tweets = []\n",
        "\n",
        "for i in tweets_word:\n",
        "    r = random.randint(0,len(i)-1)\n",
        "    tweets.append(i[r])\n",
        "    print(' '.join(tweets))"
      ],
      "execution_count": 0,
      "outputs": [
        {
          "output_type": "stream",
          "text": [
            "Salman Bin Abdulla\n",
            "Salman Bin Abdulla looking like a fool\n",
            "Salman Bin Abdulla looking like a fool had a much smaller crowd\n",
            "Salman Bin Abdulla looking like a fool had a much smaller crowd Media wont report\n"
          ],
          "name": "stdout"
        }
      ]
    },
    {
      "cell_type": "code",
      "metadata": {
        "id": "Bd5K0ufYi5p0",
        "colab_type": "code",
        "colab": {},
        "outputId": "23fd037d-1a18-46b4-bdfa-b3a63bb434c7"
      },
      "source": [
        "import random\n",
        "\n",
        "tweets = []\n",
        "\n",
        "for i in tweets_word:\n",
        "    r = random.randint(0,len(i)-1)\n",
        "    tweets.append(i[r])\n",
        "    \n",
        "print(' '.join(tweets))\n"
      ],
      "execution_count": 0,
      "outputs": [
        {
          "output_type": "stream",
          "text": [
            "Salman Bin Abdulla no talent will pay for the wall so true\n"
          ],
          "name": "stdout"
        }
      ]
    },
    {
      "cell_type": "code",
      "metadata": {
        "id": "HE7PkMCji5p2",
        "colab_type": "code",
        "colab": {}
      },
      "source": [
        ""
      ],
      "execution_count": 0,
      "outputs": []
    },
    {
      "cell_type": "code",
      "metadata": {
        "id": "3FvfTEv7i5p5",
        "colab_type": "code",
        "colab": {}
      },
      "source": [
        ""
      ],
      "execution_count": 0,
      "outputs": []
    },
    {
      "cell_type": "markdown",
      "metadata": {
        "id": "L28Fd71di5p8",
        "colab_type": "text"
      },
      "source": [
        "# fresh code is here........below\n",
        "\n",
        "\n"
      ]
    },
    {
      "cell_type": "code",
      "metadata": {
        "id": "e61tbDpei5p9",
        "colab_type": "code",
        "colab": {}
      },
      "source": [
        ""
      ],
      "execution_count": 0,
      "outputs": []
    },
    {
      "cell_type": "markdown",
      "metadata": {
        "id": "sP_Fq7mpi5p_",
        "colab_type": "text"
      },
      "source": [
        "Creating lists of terms for our Tweets"
      ]
    },
    {
      "cell_type": "code",
      "metadata": {
        "id": "t8x8P72Ri5qB",
        "colab_type": "code",
        "colab": {}
      },
      "source": [
        "part1= ['Putin,','Hillary,','Obama,','Salman Bin Abdulla,','Kim jon Ung,','Shi Zin Ping,','Modi,']\n",
        "part2= ['no talent, ','on the way down, ','really poor number, ','nasty tone, ','looking like a fool, ','bad homder, ']\n",
        "part3= ['got destroyed by my ratings .','rigged the election .','had a much smaller crowd .','will pay for the world .']\n",
        "part4= ['so sad','Apologize','so true','Media wont report','big trouble','Fantastic job','stay tuned']"
      ],
      "execution_count": 0,
      "outputs": []
    },
    {
      "cell_type": "code",
      "metadata": {
        "id": "g4EklrHKi5qD",
        "colab_type": "code",
        "colab": {}
      },
      "source": [
        ""
      ],
      "execution_count": 0,
      "outputs": []
    },
    {
      "cell_type": "markdown",
      "metadata": {
        "id": "HQS-zH5Vi5qH",
        "colab_type": "text"
      },
      "source": [
        "Creating a lists of lists"
      ]
    },
    {
      "cell_type": "code",
      "metadata": {
        "id": "6_WhNKfji5qI",
        "colab_type": "code",
        "colab": {}
      },
      "source": [
        "tweets_word=[part1,part2,part3,part4]"
      ],
      "execution_count": 0,
      "outputs": []
    },
    {
      "cell_type": "code",
      "metadata": {
        "id": "EtYyJAA_i5qK",
        "colab_type": "code",
        "colab": {}
      },
      "source": [
        ""
      ],
      "execution_count": 0,
      "outputs": []
    },
    {
      "cell_type": "markdown",
      "metadata": {
        "id": "VI7ZYgZKi5qN",
        "colab_type": "text"
      },
      "source": [
        "Building the Tweet Generator"
      ]
    },
    {
      "cell_type": "code",
      "metadata": {
        "id": "4gQjTM6Xi5qN",
        "colab_type": "code",
        "colab": {},
        "outputId": "ca3ed3a6-5e31-4625-ace2-ebf823a87336"
      },
      "source": [
        "import random\n",
        "\n",
        "tweets = []\n",
        "\n",
        "for i in tweets_word:\n",
        "    r = random.randint(0,len(i)-1)\n",
        "    tweets.append(i[r])\n",
        "    \n",
        "print(' '.join(tweets)+' !')"
      ],
      "execution_count": 0,
      "outputs": [
        {
          "output_type": "stream",
          "text": [
            "Modi, really poor number,  will pay for the world . Apologize !\n"
          ],
          "name": "stdout"
        }
      ]
    },
    {
      "cell_type": "code",
      "metadata": {
        "id": "CBF-B4cmi5qQ",
        "colab_type": "code",
        "colab": {}
      },
      "source": [
        ""
      ],
      "execution_count": 0,
      "outputs": []
    }
  ]
}